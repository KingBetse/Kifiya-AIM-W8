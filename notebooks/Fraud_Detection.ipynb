{
 "cells": [
  {
   "cell_type": "markdown",
   "metadata": {},
   "source": [
    "## Load the Datasets"
   ]
  },
  {
   "cell_type": "code",
   "execution_count": 28,
   "metadata": {},
   "outputs": [],
   "source": [
    "import pandas as pd\n",
    "\n",
    "# Load datasets\n",
    "fraud_data = pd.read_csv('../data/Fraud_Data.csv')\n",
    "ip_data = pd.read_csv('../data/IpAddress_to_Country.csv')\n",
    "# creditcard_data = pd.read_csv('creditcard.csv')"
   ]
  },
  {
   "cell_type": "markdown",
   "metadata": {},
   "source": [
    "## Data Exploration"
   ]
  },
  {
   "cell_type": "code",
   "execution_count": 29,
   "metadata": {},
   "outputs": [
    {
     "name": "stdout",
     "output_type": "stream",
     "text": [
      "<class 'pandas.core.frame.DataFrame'>\n",
      "RangeIndex: 151112 entries, 0 to 151111\n",
      "Data columns (total 11 columns):\n",
      " #   Column          Non-Null Count   Dtype  \n",
      "---  ------          --------------   -----  \n",
      " 0   user_id         151112 non-null  int64  \n",
      " 1   signup_time     151112 non-null  object \n",
      " 2   purchase_time   151112 non-null  object \n",
      " 3   purchase_value  151112 non-null  int64  \n",
      " 4   device_id       151112 non-null  object \n",
      " 5   source          151112 non-null  object \n",
      " 6   browser         151112 non-null  object \n",
      " 7   sex             151112 non-null  object \n",
      " 8   age             151112 non-null  int64  \n",
      " 9   ip_address      151112 non-null  float64\n",
      " 10  class           151112 non-null  int64  \n",
      "dtypes: float64(1), int64(4), object(6)\n",
      "memory usage: 12.7+ MB\n",
      "None\n",
      "             user_id  purchase_value            age    ip_address  \\\n",
      "count  151112.000000   151112.000000  151112.000000  1.511120e+05   \n",
      "mean   200171.040970       36.935372      33.140704  2.152145e+09   \n",
      "std    115369.285024       18.322762       8.617733  1.248497e+09   \n",
      "min         2.000000        9.000000      18.000000  5.209350e+04   \n",
      "25%    100642.500000       22.000000      27.000000  1.085934e+09   \n",
      "50%    199958.000000       35.000000      33.000000  2.154770e+09   \n",
      "75%    300054.000000       49.000000      39.000000  3.243258e+09   \n",
      "max    400000.000000      154.000000      76.000000  4.294850e+09   \n",
      "\n",
      "               class  \n",
      "count  151112.000000  \n",
      "mean        0.093646  \n",
      "std         0.291336  \n",
      "min         0.000000  \n",
      "25%         0.000000  \n",
      "50%         0.000000  \n",
      "75%         0.000000  \n",
      "max         1.000000  \n",
      "<class 'pandas.core.frame.DataFrame'>\n",
      "RangeIndex: 138846 entries, 0 to 138845\n",
      "Data columns (total 3 columns):\n",
      " #   Column                  Non-Null Count   Dtype  \n",
      "---  ------                  --------------   -----  \n",
      " 0   lower_bound_ip_address  138846 non-null  float64\n",
      " 1   upper_bound_ip_address  138846 non-null  int64  \n",
      " 2   country                 138846 non-null  object \n",
      "dtypes: float64(1), int64(1), object(1)\n",
      "memory usage: 3.2+ MB\n",
      "None\n",
      "       lower_bound_ip_address  upper_bound_ip_address\n",
      "count            1.388460e+05            1.388460e+05\n",
      "mean             2.724532e+09            2.724557e+09\n",
      "std              8.975215e+08            8.974979e+08\n",
      "min              1.677722e+07            1.677747e+07\n",
      "25%              1.919930e+09            1.920008e+09\n",
      "50%              3.230887e+09            3.230888e+09\n",
      "75%              3.350465e+09            3.350466e+09\n",
      "max              3.758096e+09            3.758096e+09\n"
     ]
    }
   ],
   "source": [
    "# Check the data types and missing values\n",
    "print(fraud_data.info())\n",
    "print(fraud_data.describe())\n",
    "\n",
    "print(ip_data.info())\n",
    "print(ip_data.describe())\n",
    "\n"
   ]
  },
  {
   "cell_type": "markdown",
   "metadata": {},
   "source": [
    "## Handle Missing Values"
   ]
  },
  {
   "cell_type": "code",
   "execution_count": 30,
   "metadata": {},
   "outputs": [
    {
     "name": "stdout",
     "output_type": "stream",
     "text": [
      "user_id           0\n",
      "signup_time       0\n",
      "purchase_time     0\n",
      "purchase_value    0\n",
      "device_id         0\n",
      "source            0\n",
      "browser           0\n",
      "sex               0\n",
      "age               0\n",
      "ip_address        0\n",
      "class             0\n",
      "dtype: int64\n"
     ]
    }
   ],
   "source": [
    "# Impute or drop missing values as needed\n",
    "fraud_data.fillna({\n",
    "    'sex': 'Unknown',\n",
    "    'age': fraud_data['age'].mean(),\n",
    "    'source': 'Unknown',\n",
    "    'browser': 'Unknown'\n",
    "}, inplace=True)\n",
    "\n",
    "# Check for missing values\n",
    "print(fraud_data.isnull().sum())"
   ]
  },
  {
   "cell_type": "markdown",
   "metadata": {},
   "source": [
    "## Data Cleaning"
   ]
  },
  {
   "cell_type": "code",
   "execution_count": 31,
   "metadata": {},
   "outputs": [],
   "source": [
    "# Remove duplicates\n",
    "fraud_data.drop_duplicates(inplace=True)\n",
    "\n",
    "# Convert timestamps to datetime\n",
    "fraud_data['signup_time'] = pd.to_datetime(fraud_data['signup_time'])\n",
    "fraud_data['purchase_time'] = pd.to_datetime(fraud_data['purchase_time'])\n",
    "\n"
   ]
  },
  {
   "cell_type": "markdown",
   "metadata": {},
   "source": [
    "## Geolocation Analysis"
   ]
  },
  {
   "cell_type": "code",
   "execution_count": 32,
   "metadata": {},
   "outputs": [
    {
     "name": "stdout",
     "output_type": "stream",
     "text": [
      "   user_id         signup_time       purchase_time  purchase_value  \\\n",
      "0    22058 2015-02-24 22:55:49 2015-04-18 02:47:11              34   \n",
      "1   333320 2015-06-07 20:39:50 2015-06-08 01:38:54              16   \n",
      "2     1359 2015-01-01 18:52:44 2015-01-01 18:52:45              15   \n",
      "3   150084 2015-04-28 21:13:25 2015-05-04 13:54:50              44   \n",
      "4   221365 2015-07-21 07:09:52 2015-09-09 18:40:53              39   \n",
      "\n",
      "       device_id source browser sex  age    ip_address  class  \\\n",
      "0  QVPSPJUOCKZAR    SEO  Chrome   M   39  7.327584e+08      0   \n",
      "1  EOGFQPIZPYXFZ    Ads  Chrome   F   53  3.503114e+08      0   \n",
      "2  YSSKYOSJHPPLJ    SEO   Opera   M   53  2.621474e+09      1   \n",
      "3  ATGTXKYKUDUQN    SEO  Safari   M   41  3.840542e+09      0   \n",
      "4  NAUITBZFJKHWW    Ads  Safari   M   45  4.155831e+08      0   \n",
      "\n",
      "   lower_bound_ip_address  upper_bound_ip_address country  \n",
      "0                     NaN                     NaN     NaN  \n",
      "1                     NaN                     NaN     NaN  \n",
      "2                     NaN                     NaN     NaN  \n",
      "3                     NaN                     NaN     NaN  \n",
      "4                     NaN                     NaN     NaN  \n"
     ]
    }
   ],
   "source": [
    "\n",
    "# Merge with country data\n",
    "merged_data = pd.merge(fraud_data, ip_data, how='left', left_on='ip_address', right_on='lower_bound_ip_address')\n",
    "\n",
    "# Check the merged data\n",
    "print(merged_data.head())"
   ]
  },
  {
   "cell_type": "markdown",
   "metadata": {},
   "source": [
    "## Feature Engineering"
   ]
  },
  {
   "cell_type": "code",
   "execution_count": 33,
   "metadata": {},
   "outputs": [],
   "source": [
    "# Extract time-based features\n",
    "merged_data['hour_of_day'] = merged_data['purchase_time'].dt.hour\n",
    "merged_data['day_of_week'] = merged_data['purchase_time'].dt.dayofweek\n",
    "\n",
    "# Calculate transaction frequency and velocity\n",
    "transaction_counts = merged_data.groupby('user_id')['purchase_value'].count().reset_index(name='transaction_count')\n",
    "transaction_values = merged_data.groupby('user_id')['purchase_value'].sum().reset_index(name='total_spent')\n",
    "\n",
    "merged_data = merged_data.merge(transaction_counts, on='user_id', how='left')\n",
    "merged_data = merged_data.merge(transaction_values, on='user_id', how='left')"
   ]
  },
  {
   "cell_type": "markdown",
   "metadata": {},
   "source": [
    "## Normalization and Scaling"
   ]
  },
  {
   "cell_type": "code",
   "execution_count": 34,
   "metadata": {},
   "outputs": [],
   "source": [
    "from sklearn.preprocessing import MinMaxScaler\n",
    "\n",
    "scaler = MinMaxScaler()\n",
    "merged_data[['purchase_value', 'transaction_count', 'total_spent']] = scaler.fit_transform(\n",
    "    merged_data[['purchase_value', 'transaction_count', 'total_spent']]\n",
    ")"
   ]
  },
  {
   "cell_type": "markdown",
   "metadata": {},
   "source": [
    "## Encode Categorical Features"
   ]
  },
  {
   "cell_type": "code",
   "execution_count": 35,
   "metadata": {},
   "outputs": [],
   "source": [
    "merged_data = pd.get_dummies(merged_data, columns=['source', 'browser', 'sex', 'country'], drop_first=True)"
   ]
  },
  {
   "cell_type": "markdown",
   "metadata": {},
   "source": [
    "## Exploratory Data Analysis (EDA)"
   ]
  },
  {
   "cell_type": "code",
   "execution_count": 36,
   "metadata": {},
   "outputs": [
    {
     "name": "stdout",
     "output_type": "stream",
     "text": [
      "<class 'pandas.core.frame.DataFrame'>\n",
      "Index: 150045 entries, 0 to 151111\n",
      "Data columns (total 11 columns):\n",
      " #   Column          Non-Null Count   Dtype         \n",
      "---  ------          --------------   -----         \n",
      " 0   user_id         150045 non-null  int64         \n",
      " 1   signup_time     150045 non-null  datetime64[ns]\n",
      " 2   purchase_time   150045 non-null  datetime64[ns]\n",
      " 3   purchase_value  150045 non-null  int64         \n",
      " 4   device_id       150045 non-null  object        \n",
      " 5   source          150045 non-null  object        \n",
      " 6   browser         150045 non-null  object        \n",
      " 7   sex             150045 non-null  object        \n",
      " 8   age             150045 non-null  int64         \n",
      " 9   ip_address      150045 non-null  float64       \n",
      " 10  class           150045 non-null  int64         \n",
      "dtypes: datetime64[ns](2), float64(1), int64(4), object(4)\n",
      "memory usage: 13.7+ MB\n",
      "None\n"
     ]
    },
    {
     "data": {
      "image/png": "[encoded data removed]",
      "text/plain": [
       "<Figure size 640x480 with 1 Axes>"
      ]
     },
     "metadata": {},
     "output_type": "display_data"
    },
    {
     "data": {
      "image/png": "[encoded data removed]",
      "text/plain": [
       "<Figure size 640x480 with 1 Axes>"
      ]
     },
     "metadata": {},
     "output_type": "display_data"
    }
   ],
   "source": [
    "import matplotlib.pyplot as plt\n",
    "import seaborn as sns\n",
    "\n",
    "\n",
    "# Calculate Q1 (25th percentile) and Q3 (75th percentile) for purchase_value\n",
    "Q1_purchase = merged_data['purchase_value'].quantile(0.25)\n",
    "Q3_purchase = merged_data['purchase_value'].quantile(0.75)\n",
    "IQR_purchase = Q3_purchase - Q1_purchase\n",
    "\n",
    "# Define bounds for purchase_value outliers\n",
    "lower_bound_purchase = Q1_purchase - 1.5 * IQR_purchase\n",
    "upper_bound_purchase = Q3_purchase + 1.5 * IQR_purchase\n",
    "\n",
    "# Calculate Q1 (25th percentile) and Q3 (75th percentile) for transaction_count\n",
    "Q1_transaction = merged_data['transaction_count'].quantile(0.25)\n",
    "Q3_transaction = merged_data['transaction_count'].quantile(0.75)\n",
    "IQR_transaction = Q3_transaction - Q1_transaction\n",
    "\n",
    "# Define bounds for transaction_count outliers\n",
    "lower_bound_transaction = Q1_transaction - 1.5 * IQR_transaction\n",
    "upper_bound_transaction = Q3_transaction + 1.5 * IQR_transaction\n",
    "\n",
    "# Remove outliers for both purchase_value and transaction_count\n",
    "fraud_data_cleaned = fraud_data[\n",
    "    (merged_data['purchase_value'] >= lower_bound_purchase) & \n",
    "    (merged_data['purchase_value'] <= upper_bound_purchase) &\n",
    "    (merged_data['transaction_count'] >= lower_bound_transaction) & \n",
    "    (merged_data['transaction_count'] <= upper_bound_transaction)\n",
    "]\n",
    "\n",
    "# Display the cleaned DataFrame\n",
    "print(fraud_data_cleaned.info())\n",
    "\n",
    "# Univariate Analysis\n",
    "sns.countplot(data=fraud_data_cleaned, x='class')\n",
    "plt.title('Fraudulent vs Non-Fraudulent Transactions')\n",
    "plt.show()\n",
    "\n",
    "# Bivariate Analysis\n",
    "sns.boxplot(data=fraud_data_cleaned, x='class', y='purchase_value')\n",
    "plt.title('Purchase Value by Transaction Class')\n",
    "plt.show()\n"
   ]
  }
 ],
 "metadata": {
  "kernelspec": {
   "display_name": "base",
   "language": "python",
   "name": "python3"
  },
  "language_info": {
   "codemirror_mode": {
    "name": "ipython",
    "version": 3
   },
   "file_extension": ".py",
   "mimetype": "text/x-python",
   "name": "python",
   "nbconvert_exporter": "python",
   "pygments_lexer": "ipython3",
   "version": "3.12.3"
  }
 },
 "nbformat": 4,
 "nbformat_minor": 2
}
